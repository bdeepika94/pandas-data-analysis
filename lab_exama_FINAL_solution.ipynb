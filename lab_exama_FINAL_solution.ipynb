{
 "cells": [
  {
   "cell_type": "code",
   "execution_count": 3,
   "metadata": {},
   "outputs": [
    {
     "data": {
      "text/plain": [
       "90    1991\n",
       "Name: YEAR, dtype: int64"
      ]
     },
     "execution_count": 3,
     "metadata": {},
     "output_type": "execute_result"
    }
   ],
   "source": [
    "#Problem 1\n",
    "\n",
    "import numpy as np\n",
    "import pandas as pd\n",
    "\n",
    "dfs=pd.read_csv(\"south_pen-India_rainfall_act_dep_1901_2016.csv\")\n",
    "\n",
    "# temp=dfs[dfs[\"Departure Percentage: JUN\"]==dfs[\"Departure Percentage: JUN\"].max()]\n",
    "# temp[\"YEAR\"]\n",
    "\n",
    "temp=dfs[dfs[\"Actual Rainfall: JUN\"]==dfs[\"Actual Rainfall: JUN\"].max()]\n",
    "temp[\"YEAR\"]\n",
    "\n",
    "# decrement=(df[\"Departure Percentage: JUN\"]/100)*df[\"Actual Rainfall: JUN\"]\n",
    "# ans=df[\"Actual Rainfall: JUN\"]+decrement\n",
    "# df[\"JUNE\"]=ans\n",
    "# temp=df[df[\"JUNE\"]==df[\"JUNE\"].max()]\n",
    "# temp[\"YEAR\"]"
   ]
  },
  {
   "cell_type": "code",
   "execution_count": 4,
   "metadata": {},
   "outputs": [
    {
     "name": "stdout",
     "output_type": "stream",
     "text": [
      "17    1918\n",
      "86    1987\n",
      "73    1974\n",
      "71    1972\n",
      "19    1920\n",
      "Name: YEAR, dtype: int64\n",
      "17     1918\n",
      "78     1979\n",
      "86     1987\n",
      "108    2009\n",
      "64     1965\n",
      "Name: YEAR, dtype: int64\n",
      "104    2005\n",
      "112    2013\n",
      "91     1992\n",
      "108    2009\n",
      "71     1972\n",
      "Name: YEAR, dtype: int64\n"
     ]
    }
   ],
   "source": [
    "#Problem 2\n",
    "dfne=pd.read_csv(\"ne-India_rainfall_act_dep_1901_2016.csv\")\n",
    "dfnw=pd.read_csv(\"nw-India_rainfall_act_dep_1901_2016.csv\")\n",
    "dfc=pd.read_csv(\"central-India_rainfall_act_dep_1901_2016.csv\")\n",
    "\n",
    "temp=dfc.sort_values(by=\"Actual Rainfall: JUN-SEPT\")\n",
    "print(temp[\"YEAR\"].head())\n",
    "\n",
    "temp=dfnw.sort_values(by=\"Actual Rainfall: JUN-SEPT\")\n",
    "print(temp[\"YEAR\"].head())\n",
    "\n",
    "temp=dfne.sort_values(by=\"Actual Rainfall: JUN-SEPT\")\n",
    "print(temp[\"YEAR\"].head())\n"
   ]
  },
  {
   "cell_type": "code",
   "execution_count": 5,
   "metadata": {},
   "outputs": [
    {
     "name": "stdout",
     "output_type": "stream",
     "text": [
      "90    1991\n",
      "Name: YEAR, dtype: int64\n"
     ]
    }
   ],
   "source": [
    "#Problem 3\n",
    "def max_rain(file1,month):\n",
    "    df=pd.read_csv(file1)\n",
    "    month=month.lower()\n",
    "    \n",
    "    if(month==\"june\"):\n",
    "        temp=df[df[\"Actual Rainfall: JUN\"]==df[\"Actual Rainfall: JUN\"].max()]\n",
    "    elif(month==\"july\"):\n",
    "        temp=df[df[\"Actual Rainfall: JUL\"]==df[\"Actual Rainfall: JUL\"].max()]\n",
    "    elif(month==\"august\"):\n",
    "        temp=df[df[\"Actual Rainfall: AUG\"]==df[\"Actual Rainfall: AUG\"].max()]\n",
    "    elif(month==\"september\"):\n",
    "        temp=df[df[\"Actual Rainfall: SEPT\"]==df[\"Actual Rainfall: SEPT\"].max()]\n",
    "    return temp[\"YEAR\"]\n",
    "\n",
    "print(max_rain(\"south_pen-India_rainfall_act_dep_1901_2016.csv\",\"JUNE\"))\n"
   ]
  },
  {
   "cell_type": "code",
   "execution_count": 6,
   "metadata": {},
   "outputs": [],
   "source": [
    "# for i in range(0,dfne.shape[0]-1):\n",
    "# dfne=pd.read_csv(\"ne-India_rainfall_act_dep_1901_2016.csv\")\n",
    "# l=list(np.where(dfne.loc[0:dfne.shape[0],\"Departure Percentage: JUN-SEPT\"]<-10))\n",
    "# for i in range(len(l)-2):\n",
    "#     print(i)\n",
    "#     a=l[i]\n",
    "#     b=l[i+1]\n",
    "#     c=l[i+2]\n",
    "#     if ((b==(a+1)) and (c==(b+1))):\n",
    "#         print(\"NORTH EAST : \",dfne.loc[a:c+1,'YEAR'])"
   ]
  },
  {
   "cell_type": "code",
   "execution_count": 7,
   "metadata": {},
   "outputs": [
    {
     "name": "stdout",
     "output_type": "stream",
     "text": [
      "NORTH EAST:\n",
      "\n",
      "103    2004\n",
      "104    2005\n",
      "105    2006\n",
      "Name: YEAR, dtype: int64\n",
      "108    2009\n",
      "109    2010\n",
      "110    2011\n",
      "Name: YEAR, dtype: int64\n",
      "\n",
      "NORTH WEST:\n",
      "\n",
      "38    1939\n",
      "39    1940\n",
      "40    1941\n",
      "Name: YEAR, dtype: int64\n",
      "\n",
      "CENTRAL INDIA:\n",
      "\n",
      "83    1984\n",
      "84    1985\n",
      "85    1986\n",
      "Name: YEAR, dtype: int64\n",
      "84    1985\n",
      "85    1986\n",
      "86    1987\n",
      "Name: YEAR, dtype: int64\n",
      "\n",
      "SOUTH:\n",
      "\n",
      "101    2002\n",
      "102    2003\n",
      "103    2004\n",
      "Name: YEAR, dtype: int64\n",
      "\n"
     ]
    }
   ],
   "source": [
    "#PROBLEM 4\n",
    "\n",
    "def consicutive(file):\n",
    "    df=pd.read_csv(file)\n",
    "    for i in range(2,df.shape[0]-1):\n",
    "        temp=df.loc[i:i+2,\"Departure Percentage: JUN-SEPT\"]\n",
    "        count=0\n",
    "        for j in temp:\n",
    "            if(j<-10):\n",
    "                count=count+1\n",
    "                \n",
    "        if(count==3):\n",
    "            print(df.loc[i:i+2,\"YEAR\"])\n",
    "\n",
    "print(\"NORTH EAST:\")\n",
    "print()\n",
    "consicutive(\"ne-India_rainfall_act_dep_1901_2016.csv\")\n",
    "print()\n",
    "\n",
    "print(\"NORTH WEST:\")\n",
    "print()\n",
    "consicutive(\"nw-India_rainfall_act_dep_1901_2016.csv\")\n",
    "print()\n",
    " \n",
    "print(\"CENTRAL INDIA:\")\n",
    "print()\n",
    "consicutive(\"central-India_rainfall_act_dep_1901_2016.csv\")\n",
    "print()\n",
    "    \n",
    "print(\"SOUTH:\")\n",
    "print()\n",
    "consicutive(\"south_pen-India_rainfall_act_dep_1901_2016.csv\")\n",
    "print()\n",
    "    \n"
   ]
  },
  {
   "cell_type": "code",
   "execution_count": 150,
   "metadata": {},
   "outputs": [
    {
     "data": {
      "text/plain": [
       "'Konkan & Goa'"
      ]
     },
     "execution_count": 150,
     "metadata": {},
     "output_type": "execute_result"
    }
   ],
   "source": [
    "#PROGRAM 5\n",
    "df=pd.read_excel(\"MONTHLY_ACTUAL_RAINFALL_FROM_2009_TO_2011.xls\")\n",
    "df[\"NewColumn\"]=(df[\"June 2010 (in millimetre)\"]+df[\"July 2010 (in millimetre)\"]+df[\" August 2010 (in millimetre)\"])/3\n",
    "temp=df[df[\"NewColumn\"]==df[\"NewColumn\"].max()]\n",
    "temp.iloc[0,0]"
   ]
  },
  {
   "cell_type": "code",
   "execution_count": 192,
   "metadata": {},
   "outputs": [
    {
     "name": "stdout",
     "output_type": "stream",
     "text": [
      "[2457.3 2275.8 2911.3 3151.0 3297.7 3919.5 2534.2 2815.9 3142.0]\n",
      "[1034.4 1533.2 2096.8 1579.0 1695.4 2037.9 1726.4 1572.5 1725.4]\n"
     ]
    },
    {
     "data": {
      "image/png": "[encoded data removed]",
      "text/plain": [
       "<Figure size 432x288 with 1 Axes>"
      ]
     },
     "metadata": {
      "needs_background": "light"
     },
     "output_type": "display_data"
    }
   ],
   "source": [
    "import matplotlib.pyplot as plt\n",
    "df=pd.read_excel(\"METEOROLOGICAL_SUB_DIVISION_WISE_ANNUAL_RAINFALL.xls\")\n",
    "x=np.arange(2002,2012)\n",
    "# y=df[\"\"]\n",
    "y=df.iloc[33,12]\n",
    "y2=df.iloc[34,12]\n",
    "y3=df.iloc[35,12]\n",
    "l=df.iloc[33,1:10].values\n",
    "l2=df.iloc[34,1:10].values\n",
    "l3=df.iloc[35,1:10].values\n",
    "print(l2)\n",
    "print(l3)\n",
    "y1=[869.1 ,817.9, 1028.3, 1357.0, 951.0, 1229.5, 1105.7, 1177.2, 1308.7,y]\n",
    "y_2=[2457.3, 2275.8 ,2911.3 ,3151.0, 3297.7, 3919.5 ,2534.2 ,2815.9, 3142.0,y2]\n",
    "y_3=[1034.4, 1533.2, 2096.8, 1579.0,1695.4 ,2037.9 ,1726.4 ,1572.5, 1725.4,y3]\n",
    "len(y1)\n",
    "\n",
    "plt.xlabel(\"YEARS\")\n",
    "plt.ylabel(\"RAINFALL\")\n",
    "plt.plot(x,y1,label=\"COastal\")\n",
    "plt.plot(x,y_2,label=\"North\",color=\"red\")\n",
    "plt.plot(x,y_3,label=\"south\",color=\"green\")\n",
    "plt.legend()\n",
    "plt.show()\n",
    "\n",
    "\n"
   ]
  },
  {
   "cell_type": "code",
   "execution_count": null,
   "metadata": {},
   "outputs": [],
   "source": []
  }
 ],
 "metadata": {
  "kernelspec": {
   "display_name": "Python 3",
   "language": "python",
   "name": "python3"
  },
  "language_info": {
   "codemirror_mode": {
    "name": "ipython",
    "version": 3
   },
   "file_extension": ".py",
   "mimetype": "text/x-python",
   "name": "python",
   "nbconvert_exporter": "python",
   "pygments_lexer": "ipython3",
   "version": "3.7.3"
  }
 },
 "nbformat": 4,
 "nbformat_minor": 2
}
